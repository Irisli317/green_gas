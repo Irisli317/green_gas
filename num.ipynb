{
 "cells": [
  {
   "cell_type": "code",
   "execution_count": 9,
   "id": "6936de75",
   "metadata": {},
   "outputs": [],
   "source": [
    "#import data\n",
    "import pandas as pd\n",
    "import numpy as np\n",
    "import seaborn as sns\n",
    "import math"
   ]
  },
  {
   "cell_type": "code",
   "execution_count": 3,
   "id": "73275ee1",
   "metadata": {},
   "outputs": [],
   "source": [
    "#read data\n",
    "dt = pd.read_excel('data_query-tbl-details.xlsx')"
   ]
  },
  {
   "cell_type": "code",
   "execution_count": 4,
   "id": "f48fcdff",
   "metadata": {},
   "outputs": [
    {
     "name": "stdout",
     "output_type": "stream",
     "text": [
      "0       257753\n",
      "1        17800\n",
      "2        36272\n",
      "3        45903\n",
      "4       136303\n",
      "         ...  \n",
      "8166    216320\n",
      "8167     20810\n",
      "8168      9184\n",
      "8169     34058\n",
      "8170     50699\n",
      "Name: reduction, Length: 8171, dtype: int32\n",
      "0           NaN\n",
      "1       10000.0\n",
      "2           NaN\n",
      "3           NaN\n",
      "4           NaN\n",
      "         ...   \n",
      "8166    41764.0\n",
      "8167        0.0\n",
      "8168        0.0\n",
      "8169     5311.0\n",
      "8170     8639.0\n",
      "Name: fee level, Length: 8171, dtype: float64\n"
     ]
    }
   ],
   "source": [
    "#extract the numeric information from the table\n",
    "dt['reduction'] = dt['Amount of Reductions'].str.replace(',','')\n",
    "\n",
    "dt['reduction'] = dt['reduction'].str.extract(r'(?P<URL>^[0-9]+)').astype(int)\n",
    "print(dt['reduction'])\n",
    "\n",
    "dt['fee level'] = dt['Fee level'].str.extract(r'(?P<URL>[0-9]+)').astype(float)\n",
    "print(dt['fee level'])"
   ]
  },
  {
   "cell_type": "code",
   "execution_count": 20,
   "id": "c9bcdea1",
   "metadata": {},
   "outputs": [
    {
     "data": {
      "text/html": [
       "<div>\n",
       "<style scoped>\n",
       "    .dataframe tbody tr th:only-of-type {\n",
       "        vertical-align: middle;\n",
       "    }\n",
       "\n",
       "    .dataframe tbody tr th {\n",
       "        vertical-align: top;\n",
       "    }\n",
       "\n",
       "    .dataframe thead th {\n",
       "        text-align: right;\n",
       "    }\n",
       "</style>\n",
       "<table border=\"1\" class=\"dataframe\">\n",
       "  <thead>\n",
       "    <tr style=\"text-align: right;\">\n",
       "      <th></th>\n",
       "      <th>reduction</th>\n",
       "      <th>fee level</th>\n",
       "    </tr>\n",
       "  </thead>\n",
       "  <tbody>\n",
       "    <tr>\n",
       "      <th>count</th>\n",
       "      <td>8.171000e+03</td>\n",
       "      <td>6911.000000</td>\n",
       "    </tr>\n",
       "    <tr>\n",
       "      <th>mean</th>\n",
       "      <td>1.259987e+05</td>\n",
       "      <td>19958.695268</td>\n",
       "    </tr>\n",
       "    <tr>\n",
       "      <th>std</th>\n",
       "      <td>3.865497e+05</td>\n",
       "      <td>40002.560791</td>\n",
       "    </tr>\n",
       "    <tr>\n",
       "      <th>min</th>\n",
       "      <td>1.730000e+02</td>\n",
       "      <td>0.000000</td>\n",
       "    </tr>\n",
       "    <tr>\n",
       "      <th>25%</th>\n",
       "      <td>2.352350e+04</td>\n",
       "      <td>2863.000000</td>\n",
       "    </tr>\n",
       "    <tr>\n",
       "      <th>50%</th>\n",
       "      <td>5.630200e+04</td>\n",
       "      <td>8796.000000</td>\n",
       "    </tr>\n",
       "    <tr>\n",
       "      <th>75%</th>\n",
       "      <td>1.051995e+05</td>\n",
       "      <td>19458.000000</td>\n",
       "    </tr>\n",
       "    <tr>\n",
       "      <th>max</th>\n",
       "      <td>1.186222e+07</td>\n",
       "      <td>350000.000000</td>\n",
       "    </tr>\n",
       "  </tbody>\n",
       "</table>\n",
       "</div>"
      ],
      "text/plain": [
       "          reduction      fee level\n",
       "count  8.171000e+03    6911.000000\n",
       "mean   1.259987e+05   19958.695268\n",
       "std    3.865497e+05   40002.560791\n",
       "min    1.730000e+02       0.000000\n",
       "25%    2.352350e+04    2863.000000\n",
       "50%    5.630200e+04    8796.000000\n",
       "75%    1.051995e+05   19458.000000\n",
       "max    1.186222e+07  350000.000000"
      ]
     },
     "execution_count": 20,
     "metadata": {},
     "output_type": "execute_result"
    }
   ],
   "source": [
    "numeric_col = dt[['reduction', 'fee level']]\n",
    "numeric_col.describe()"
   ]
  },
  {
   "cell_type": "markdown",
   "id": "338f4671",
   "metadata": {},
   "source": [
    "## The reduction amount and fee level both obey a roughly logarithm normal distribution as the graphs shown below."
   ]
  },
  {
   "cell_type": "code",
   "execution_count": 21,
   "id": "9fe38474",
   "metadata": {},
   "outputs": [
    {
     "data": {
      "text/plain": [
       "<AxesSubplot:xlabel='reduction_2', ylabel='Count'>"
      ]
     },
     "execution_count": 21,
     "metadata": {},
     "output_type": "execute_result"
    },
    {
     "data": {
      "image/png": "[encoded data removed]",
      "text/plain": [
       "<Figure size 432x288 with 1 Axes>"
      ]
     },
     "metadata": {
      "needs_background": "light"
     },
     "output_type": "display_data"
    }
   ],
   "source": [
    "dt['ln(reduction)'] = np.log(dt['reduction'])\n",
    "sns.histplot(dt['ln(reduction)'])"
   ]
  },
  {
   "cell_type": "code",
   "execution_count": 22,
   "id": "9f4d83dc",
   "metadata": {},
   "outputs": [
    {
     "data": {
      "text/plain": [
       "<AxesSubplot:>"
      ]
     },
     "execution_count": 22,
     "metadata": {},
     "output_type": "execute_result"
    },
    {
     "data": {
      "image/png": "[encoded data removed]",
      "text/plain": [
       "<Figure size 432x288 with 1 Axes>"
      ]
     },
     "metadata": {
      "needs_background": "light"
     },
     "output_type": "display_data"
    }
   ],
   "source": [
    "dt.boxplot('ln(reduction)')"
   ]
  },
  {
   "cell_type": "code",
   "execution_count": 23,
   "id": "99f04917",
   "metadata": {},
   "outputs": [
    {
     "name": "stderr",
     "output_type": "stream",
     "text": [
      "E:\\anaconda\\ana\\lib\\site-packages\\pandas\\core\\arraylike.py:364: RuntimeWarning: divide by zero encountered in log\n",
      "  result = getattr(ufunc, method)(*inputs, **kwargs)\n"
     ]
    },
    {
     "data": {
      "text/plain": [
       "<AxesSubplot:xlabel='fee_2', ylabel='Count'>"
      ]
     },
     "execution_count": 23,
     "metadata": {},
     "output_type": "execute_result"
    },
    {
     "data": {
      "image/png": "[encoded data removed]",
      "text/plain": [
       "<Figure size 432x288 with 1 Axes>"
      ]
     },
     "metadata": {
      "needs_background": "light"
     },
     "output_type": "display_data"
    }
   ],
   "source": [
    "dt['ln(fee)'] = np.log(dt['fee level'])\n",
    "sns.histplot(dt['ln(fee)'])"
   ]
  },
  {
   "cell_type": "code",
   "execution_count": 26,
   "id": "d9c08a63",
   "metadata": {},
   "outputs": [
    {
     "data": {
      "text/plain": [
       "<AxesSubplot:>"
      ]
     },
     "execution_count": 26,
     "metadata": {},
     "output_type": "execute_result"
    },
    {
     "data": {
      "image/png": "[encoded data removed]",
      "text/plain": [
       "<Figure size 432x288 with 1 Axes>"
      ]
     },
     "metadata": {
      "needs_background": "light"
     },
     "output_type": "display_data"
    }
   ],
   "source": [
    "dt.boxplot('fee_2')"
   ]
  }
 ],
 "metadata": {
  "kernelspec": {
   "display_name": "Python 3 (ipykernel)",
   "language": "python",
   "name": "python3"
  },
  "language_info": {
   "codemirror_mode": {
    "name": "ipython",
    "version": 3
   },
   "file_extension": ".py",
   "mimetype": "text/x-python",
   "name": "python",
   "nbconvert_exporter": "python",
   "pygments_lexer": "ipython3",
   "version": "3.9.7"
  }
 },
 "nbformat": 4,
 "nbformat_minor": 5
}
