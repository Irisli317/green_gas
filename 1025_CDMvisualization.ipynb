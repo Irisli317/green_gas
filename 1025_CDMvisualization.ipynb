{
 "cells": [
  {
   "cell_type": "markdown",
   "id": "d27a09a9",
   "metadata": {},
   "source": [
    "# CDM Research Report"
   ]
  },
  {
   "cell_type": "markdown",
   "id": "2b14df67",
   "metadata": {},
   "source": [
    "## Problem Statement"
   ]
  },
  {
   "cell_type": "markdown",
   "id": "8b9e928d",
   "metadata": {},
   "source": []
  },
  {
   "cell_type": "markdown",
   "id": "b4db916b",
   "metadata": {},
   "source": [
    "## Exploratory Data Analysis"
   ]
  },
  {
   "cell_type": "code",
   "execution_count": 2,
   "id": "09a9dc37",
   "metadata": {},
   "outputs": [],
   "source": [
    "#Import packages\n",
    "\n",
    "import pandas as pd\n",
    "import matplotlib.pyplot as plt\n",
    "import seaborn as sns\n",
    "import warnings\n",
    "import numpy as np\n",
    "import plotly.express as px\n",
    "import plotly.graph_objs as go\n",
    "from plotly.offline import init_notebook_mode, iplot, plot\n",
    "import warnings\n",
    "warnings.filterwarnings(\"ignore\")\n",
    "%matplotlib inline"
   ]
  },
  {
   "cell_type": "code",
   "execution_count": 3,
   "id": "5696bdc1",
   "metadata": {},
   "outputs": [],
   "source": [
    "# Load data\n",
    "dt = pd.read_excel('/Users/riva5/Downloads/update_CDM_projects_basic_information.xlsx')\n",
    "df = dt.copy()"
   ]
  },
  {
   "cell_type": "markdown",
   "id": "907b08e2",
   "metadata": {},
   "source": [
    "## Project classification"
   ]
  },
  {
   "cell_type": "code",
   "execution_count": 4,
   "id": "76aac625",
   "metadata": {
    "scrolled": true
   },
   "outputs": [
    {
     "data": {
      "text/plain": [
       "LARGE    0.553995\n",
       "SMALL    0.446005\n",
       "Name: Project classification, dtype: float64"
      ]
     },
     "execution_count": 4,
     "metadata": {},
     "output_type": "execute_result"
    }
   ],
   "source": [
    "df['Project classification'].value_counts(normalize=True)"
   ]
  },
  {
   "cell_type": "code",
   "execution_count": 230,
   "id": "0f6778a4",
   "metadata": {},
   "outputs": [
    {
     "data": {
      "text/plain": [
       "Text(0.5, 1.0, 'The number of large-scale and small-scale projects')"
      ]
     },
     "execution_count": 230,
     "metadata": {},
     "output_type": "execute_result"
    },
    {
     "data": {
      "image/png": "[encoded data removed]",
      "text/plain": [
       "<Figure size 432x288 with 1 Axes>"
      ]
     },
     "metadata": {
      "needs_background": "light"
     },
     "output_type": "display_data"
    }
   ],
   "source": [
    "sns.countplot(df['Project classification'])\n",
    "plt.title(\"The number of large-scale and small-scale projects\", fontsize = 15)"
   ]
  },
  {
   "cell_type": "markdown",
   "id": "f609a19b",
   "metadata": {},
   "source": [
    "## Sectoral scope number(s)"
   ]
  },
  {
   "cell_type": "code",
   "execution_count": 120,
   "id": "b5a0c2f2",
   "metadata": {},
   "outputs": [
    {
     "data": {
      "text/plain": [
       "1               0.689854\n",
       "13              0.066525\n",
       "1; 13           0.049362\n",
       "1; 4            0.041692\n",
       "4               0.032351\n",
       "3               0.024453\n",
       "3; 4            0.012910\n",
       "10; 8           0.011543\n",
       "5               0.011012\n",
       "14              0.008278\n",
       "13; 15          0.007063\n",
       "1; 15           0.006911\n",
       "10              0.006151\n",
       "1; 13; 15       0.005544\n",
       "7               0.004708\n",
       "15              0.004405\n",
       "10; 13          0.003114\n",
       "1; 3            0.001974\n",
       "11              0.001823\n",
       "1; 10; 8        0.001823\n",
       "1; 5            0.001443\n",
       "9               0.001291\n",
       "2               0.001139\n",
       "1; 3; 4         0.000911\n",
       "1; 11           0.000608\n",
       "10; 5           0.000456\n",
       "11; 4           0.000380\n",
       "11; 4; 9        0.000228\n",
       "1; 2            0.000152\n",
       "1; 14           0.000152\n",
       "8               0.000152\n",
       "13; 5           0.000152\n",
       "13; 7           0.000152\n",
       "1; 3; 5         0.000152\n",
       "8; 10           0.000152\n",
       "1; 13; 5        0.000152\n",
       "1; 7            0.000076\n",
       "1; 13; 3; 4     0.000076\n",
       "1; 10; 13       0.000076\n",
       "1; 4; 13        0.000076\n",
       "1; 9            0.000076\n",
       "4; 9            0.000076\n",
       "10; 3           0.000076\n",
       "13; 4           0.000076\n",
       "1; 8            0.000076\n",
       "11; 3           0.000076\n",
       "1; 13; 15; 4    0.000076\n",
       "Name: Scope, dtype: float64"
      ]
     },
     "execution_count": 120,
     "metadata": {},
     "output_type": "execute_result"
    }
   ],
   "source": [
    "df['Scope'].value_counts(normalize=True)"
   ]
  },
  {
   "cell_type": "code",
   "execution_count": 231,
   "id": "27aeb530",
   "metadata": {},
   "outputs": [
    {
     "data": {
      "text/plain": [
       "1               9084\n",
       "13               876\n",
       "1; 13            650\n",
       "1; 4             549\n",
       "4                426\n",
       "3                322\n",
       "3; 4             170\n",
       "10; 8            152\n",
       "5                145\n",
       "14               109\n",
       "13; 15            93\n",
       "1; 15             91\n",
       "10                81\n",
       "1; 13; 15         73\n",
       "7                 62\n",
       "15                58\n",
       "10; 13            41\n",
       "1; 3              26\n",
       "11                24\n",
       "1; 10; 8          24\n",
       "1; 5              19\n",
       "9                 17\n",
       "2                 15\n",
       "1; 3; 4           12\n",
       "1; 11              8\n",
       "10; 5              6\n",
       "11; 4              5\n",
       "11; 4; 9           3\n",
       "1; 2               2\n",
       "1; 14              2\n",
       "8                  2\n",
       "13; 5              2\n",
       "13; 7              2\n",
       "1; 3; 5            2\n",
       "8; 10              2\n",
       "1; 13; 5           2\n",
       "1; 7               1\n",
       "1; 13; 3; 4        1\n",
       "1; 10; 13          1\n",
       "1; 4; 13           1\n",
       "1; 9               1\n",
       "4; 9               1\n",
       "10; 3              1\n",
       "13; 4              1\n",
       "1; 8               1\n",
       "11; 3              1\n",
       "1; 13; 15; 4       1\n",
       "Name: Scope, dtype: int64"
      ]
     },
     "execution_count": 231,
     "metadata": {},
     "output_type": "execute_result"
    }
   ],
   "source": [
    "df['Scope'].value_counts()"
   ]
  },
  {
   "cell_type": "markdown",
   "id": "7211127b",
   "metadata": {},
   "source": [
    "## Methodologies used at registration\n",
    "\n"
   ]
  },
  {
   "cell_type": "code",
   "execution_count": 131,
   "id": "24feb9c2",
   "metadata": {},
   "outputs": [
    {
     "data": {
      "text/plain": [
       "ACM    0.478281\n",
       "AMS    0.439930\n",
       "AM     0.072372\n",
       "AR-    0.009417\n",
       "Name: Methodologies, dtype: float64"
      ]
     },
     "execution_count": 131,
     "metadata": {},
     "output_type": "execute_result"
    }
   ],
   "source": [
    "df['Methodologies'].value_counts(normalize=True)"
   ]
  },
  {
   "cell_type": "code",
   "execution_count": 234,
   "id": "4313a467",
   "metadata": {},
   "outputs": [
    {
     "data": {
      "text/plain": [
       "Text(0.5, 1.0, 'The number of different methodologies')"
      ]
     },
     "execution_count": 234,
     "metadata": {},
     "output_type": "execute_result"
    },
    {
     "data": {
      "image/png": "[encoded data removed]",
      "text/plain": [
       "<Figure size 432x288 with 1 Axes>"
      ]
     },
     "metadata": {
      "needs_background": "light"
     },
     "output_type": "display_data"
    }
   ],
   "source": [
    "# count each methodologies\n",
    "\n",
    "sns.countplot(df['Methodologies'])\n",
    "plt.title(\"The number of different methodologies\", fontsize = 15)"
   ]
  },
  {
   "cell_type": "code",
   "execution_count": 9,
   "id": "7381102e",
   "metadata": {},
   "outputs": [
    {
     "data": {
      "text/plain": [
       "Text(0.5, 1.0, 'The counts of different types of crediting periods by each methodology')"
      ]
     },
     "execution_count": 9,
     "metadata": {},
     "output_type": "execute_result"
    },
    {
     "data": {
      "image/png": "[encoded data removed]",
      "text/plain": [
       "<Figure size 432x288 with 1 Axes>"
      ]
     },
     "metadata": {
      "needs_background": "light"
     },
     "output_type": "display_data"
    }
   ],
   "source": [
    "# The counts of different types of crediting period by each methodologies\n",
    "\n",
    "sns.countplot(df['Methodologies'], hue=df['Crediting_type'])\n",
    "plt.title(\"The counts of different types of crediting periods by each methodology\", fontsize = 15)"
   ]
  },
  {
   "cell_type": "code",
   "execution_count": 114,
   "id": "d2acf158",
   "metadata": {},
   "outputs": [
    {
     "data": {
      "text/plain": [
       "Methodologies\n",
       "ACM    206533.183074\n",
       "AM     470012.672613\n",
       "AMS     41655.503021\n",
       "AR-    810610.709677\n",
       "Name: Reductions, dtype: float64"
      ]
     },
     "execution_count": 114,
     "metadata": {},
     "output_type": "execute_result"
    }
   ],
   "source": [
    "# the mean reductions by each methodologies\n",
    "\n",
    "df['Reductions'].groupby(df['Methodologies']).mean()"
   ]
  },
  {
   "cell_type": "markdown",
   "id": "fbdb9a4f",
   "metadata": {},
   "source": [
    "## Registration project title"
   ]
  },
  {
   "cell_type": "code",
   "execution_count": 139,
   "id": "297d62c2",
   "metadata": {},
   "outputs": [
    {
     "data": {
      "text/plain": [
       "0    Project for GHG emission reduction by thermal ...\n",
       "1                   HFC Decomposition Project in Ulsan\n",
       "2      Brazil NovaGerar Landfill Gas to Energy Project\n",
       "3                   La Esperanza Hydroelectric Project\n",
       "4    Project for GHG Emission Reduction by Thermal ...\n",
       "Name: Registration project title, dtype: object"
      ]
     },
     "execution_count": 139,
     "metadata": {},
     "output_type": "execute_result"
    }
   ],
   "source": [
    "df['Registration project title'].head()"
   ]
  },
  {
   "cell_type": "code",
   "execution_count": 141,
   "id": "ee46657d",
   "metadata": {},
   "outputs": [
    {
     "data": {
      "text/plain": [
       "Sichuan     277\n",
       "Yunnan      236\n",
       "Wind        236\n",
       "Methane     208\n",
       "Inner       200\n",
       "           ... \n",
       "Fiji          1\n",
       "Binglang      1\n",
       "100-MW        1\n",
       "Hengyuan      1\n",
       "WHRB          1\n",
       "Name: Registration project title, Length: 4117, dtype: int64"
      ]
     },
     "execution_count": 141,
     "metadata": {},
     "output_type": "execute_result"
    }
   ],
   "source": [
    "df['Registration project title'] = df['Registration project title'].apply(lambda x: x.split('_')[0]).apply(lambda x: x.split()[0])\n",
    "df['Registration project title'].value_counts()"
   ]
  },
  {
   "cell_type": "markdown",
   "id": "57033072",
   "metadata": {},
   "source": [
    "## Project type (UNEP DTU)"
   ]
  },
  {
   "cell_type": "code",
   "execution_count": 153,
   "id": "f6772f4d",
   "metadata": {},
   "outputs": [
    {
     "data": {
      "text/plain": [
       "Wind                     0.237773\n",
       "Hydro                    0.230331\n",
       "Biomass Energy           0.114976\n",
       "Methane avoidance        0.091358\n",
       "EE own generation        0.063867\n",
       "Landfill gas             0.049438\n",
       "Solar                    0.048375\n",
       "EE Industry              0.025972\n",
       "EE households            0.020732\n",
       "Fossil fuel switch       0.019593\n",
       "EE supply side           0.016176\n",
       "Coal bed/mine methane    0.013897\n",
       "N2O                      0.010100\n",
       "Fugitive                 0.009037\n",
       "EE service               0.008733\n",
       "Cement                   0.007442\n",
       "Reforestation            0.007290\n",
       "Transport                0.005696\n",
       "Geothermal               0.003341\n",
       "Mixed renewables         0.003265\n",
       "Energy distribution      0.003114\n",
       "Hybrid renewables        0.002050\n",
       "HFCs                     0.002050\n",
       "PFCs and SF6             0.001899\n",
       "Afforestation            0.001823\n",
       "Agriculture              0.000759\n",
       "CO2 usage                0.000456\n",
       "Tidal                    0.000152\n",
       "Waste                    0.000152\n",
       "Biogas                   0.000076\n",
       "Solar & wind             0.000076\n",
       "Name: Project_type, dtype: float64"
      ]
     },
     "execution_count": 153,
     "metadata": {},
     "output_type": "execute_result"
    }
   ],
   "source": [
    "df['Project_type'].value_counts(normalize=True)"
   ]
  },
  {
   "cell_type": "code",
   "execution_count": 157,
   "id": "31fe6fc4",
   "metadata": {},
   "outputs": [
    {
     "data": {
      "text/plain": [
       "Project_type\n",
       "Solar & wind             3901.937000\n",
       "HFCs                     3789.415222\n",
       "Tidal                    1096.393000\n",
       "Reforestation            1033.315323\n",
       "N2O                       792.482496\n",
       "Coal bed/mine methane     649.583585\n",
       "Fugitive                  578.005336\n",
       "EE supply side            420.754761\n",
       "Mixed renewables          391.068326\n",
       "Fossil fuel switch        386.663116\n",
       "Geothermal                386.145273\n",
       "PFCs and SF6              297.841600\n",
       "Energy distribution       282.077902\n",
       "EE households             277.358073\n",
       "Hybrid renewables         215.570000\n",
       "Landfill gas              177.465694\n",
       "Hydro                     151.571948\n",
       "Cement                    142.688847\n",
       "EE own generation         127.046312\n",
       "Transport                 110.477293\n",
       "Wind                      110.096388\n",
       "EE service                 81.721965\n",
       "Biomass Energy             67.052888\n",
       "Methane avoidance          55.930042\n",
       "Afforestation              54.893875\n",
       "Solar                      41.632595\n",
       "EE Industry                31.332687\n",
       "CO2 usage                  26.985500\n",
       "Biogas                     17.158000\n",
       "Agriculture                 8.662300\n",
       "Waste                       0.000500\n",
       "Name: Reductions, dtype: float64"
      ]
     },
     "execution_count": 157,
     "metadata": {},
     "output_type": "execute_result"
    }
   ],
   "source": [
    "# Mean reductions by each type of project \n",
    "\n",
    "df['Reductions'].groupby(df['Project_type']).mean().div(1000).sort_values(ascending=False)"
   ]
  },
  {
   "cell_type": "markdown",
   "id": "9e2ae147",
   "metadata": {},
   "source": [
    "## Registered or rejected (year)"
   ]
  },
  {
   "cell_type": "code",
   "execution_count": 203,
   "id": "f6dd7ab7",
   "metadata": {},
   "outputs": [
    {
     "data": {
      "text/plain": [
       "0       0.350471\n",
       "2012    0.261923\n",
       "2011    0.087257\n",
       "2010    0.065538\n",
       "2009    0.057488\n",
       "2008    0.036528\n",
       "2007    0.035996\n",
       "2006    0.031820\n",
       "2013    0.028706\n",
       "2014    0.014657\n",
       "2015    0.007746\n",
       "2016    0.005240\n",
       "2005    0.004860\n",
       "2020    0.003873\n",
       "2017    0.003493\n",
       "2019    0.002582\n",
       "2018    0.001671\n",
       "2021    0.000076\n",
       "2004    0.000076\n",
       "Name: Registered or rejected, dtype: float64"
      ]
     },
     "execution_count": 203,
     "metadata": {},
     "output_type": "execute_result"
    }
   ],
   "source": [
    "df['Registered or rejected'].value_counts(normalize=True)"
   ]
  },
  {
   "cell_type": "code",
   "execution_count": 236,
   "id": "e2e6356f",
   "metadata": {},
   "outputs": [
    {
     "data": {
      "text/plain": [
       "0       4615\n",
       "2012    3449\n",
       "2011    1149\n",
       "2010     863\n",
       "2009     757\n",
       "2008     481\n",
       "2007     474\n",
       "2006     419\n",
       "2013     378\n",
       "2014     193\n",
       "2015     102\n",
       "2016      69\n",
       "2005      64\n",
       "2020      51\n",
       "2017      46\n",
       "2019      34\n",
       "2018      22\n",
       "2021       1\n",
       "2004       1\n",
       "Name: Registered or rejected, dtype: int64"
      ]
     },
     "execution_count": 236,
     "metadata": {},
     "output_type": "execute_result"
    }
   ],
   "source": [
    "df['Registered or rejected'].value_counts()"
   ]
  },
  {
   "cell_type": "code",
   "execution_count": 158,
   "id": "6c48ad19",
   "metadata": {},
   "outputs": [
    {
     "data": {
      "text/plain": [
       "Registered or rejected\n",
       "2018    1550.512091\n",
       "2004    1138.698000\n",
       "2005     757.957641\n",
       "2021     730.788000\n",
       "2019     353.766559\n",
       "2007     264.822030\n",
       "2006     242.379969\n",
       "2016     198.290406\n",
       "2020     192.691843\n",
       "2009     158.370048\n",
       "2008     158.018549\n",
       "2010     151.528892\n",
       "0        151.343555\n",
       "2015     145.976471\n",
       "2013     141.454971\n",
       "2011     140.565520\n",
       "2014     134.261461\n",
       "2012     132.855308\n",
       "2017      92.849435\n",
       "Name: Reductions, dtype: float64"
      ]
     },
     "execution_count": 158,
     "metadata": {},
     "output_type": "execute_result"
    }
   ],
   "source": [
    "df['Reductions'].groupby(df['Registered or rejected']).mean().div(1000).sort_values(ascending=False)"
   ]
  },
  {
   "cell_type": "markdown",
   "id": "4cd7c889",
   "metadata": {},
   "source": [
    "## Website project status"
   ]
  },
  {
   "cell_type": "code",
   "execution_count": 178,
   "id": "77742f8e",
   "metadata": {},
   "outputs": [
    {
     "data": {
      "text/plain": [
       "Registered                      0.623329\n",
       "Validation Terminated           0.233976\n",
       "Validation Replaced             0.063032\n",
       "Validation Public               0.035996\n",
       "Rejected                        0.021567\n",
       "Pending Publication             0.013214\n",
       "Withdrawn                       0.005012\n",
       "Provisional                     0.002050\n",
       "Deregistered                    0.001595\n",
       "Withdrawn Before Publication    0.000152\n",
       "Requesting Registration         0.000076\n",
       "Name: Status, dtype: float64"
      ]
     },
     "execution_count": 178,
     "metadata": {},
     "output_type": "execute_result"
    }
   ],
   "source": [
    "df['Status'].value_counts(normalize=True)"
   ]
  },
  {
   "cell_type": "code",
   "execution_count": 179,
   "id": "c38d7da6",
   "metadata": {},
   "outputs": [
    {
     "data": {
      "text/plain": [
       "Registered                      8208\n",
       "Validation Terminated           3081\n",
       "Validation Replaced              830\n",
       "Validation Public                474\n",
       "Rejected                         284\n",
       "Pending Publication              174\n",
       "Withdrawn                         66\n",
       "Provisional                       27\n",
       "Deregistered                      21\n",
       "Withdrawn Before Publication       2\n",
       "Requesting Registration            1\n",
       "Name: Status, dtype: int64"
      ]
     },
     "execution_count": 179,
     "metadata": {},
     "output_type": "execute_result"
    }
   ],
   "source": [
    "df['Status'].value_counts()"
   ]
  },
  {
   "cell_type": "code",
   "execution_count": 174,
   "id": "b17559ac",
   "metadata": {},
   "outputs": [
    {
     "data": {
      "text/plain": [
       "Text(0.5, 1.0, 'The number of different types of website project status')"
      ]
     },
     "execution_count": 174,
     "metadata": {},
     "output_type": "execute_result"
    },
    {
     "data": {
      "image/png": "[encoded data removed]",
      "text/plain": [
       "<Figure size 432x288 with 1 Axes>"
      ]
     },
     "metadata": {
      "needs_background": "light"
     },
     "output_type": "display_data"
    }
   ],
   "source": [
    "sns.countplot(df['Status'])\n",
    "plt.xticks(rotation=90)\n",
    "plt.title(\"The number of different types of website project status\", fontsize = 15)"
   ]
  },
  {
   "cell_type": "code",
   "execution_count": 176,
   "id": "0598253b",
   "metadata": {},
   "outputs": [
    {
     "data": {
      "text/plain": [
       "Status\n",
       "Validation Public               319945.552743\n",
       "Pending Publication             212812.649425\n",
       "Deregistered                    204162.095238\n",
       "Registered                      163762.417641\n",
       "Rejected                        137590.073944\n",
       "Validation Terminated           130185.604349\n",
       "Validation Replaced             123639.156627\n",
       "Withdrawn                       122828.803030\n",
       "Provisional                      88497.074074\n",
       "Requesting Registration          67150.000000\n",
       "Withdrawn Before Publication         0.000000\n",
       "Name: Reductions, dtype: float64"
      ]
     },
     "execution_count": 176,
     "metadata": {},
     "output_type": "execute_result"
    }
   ],
   "source": [
    "# Mean reductions by different status\n",
    "\n",
    "df['Reductions'].groupby(df['Status']).mean().sort_values(ascending=False)"
   ]
  },
  {
   "cell_type": "markdown",
   "id": "feed5a39",
   "metadata": {},
   "source": [
    "## Type of crediting period"
   ]
  },
  {
   "cell_type": "code",
   "execution_count": 180,
   "id": "cd85a683",
   "metadata": {},
   "outputs": [
    {
     "data": {
      "text/plain": [
       "Renewable    0.459751\n",
       "unknown      0.314323\n",
       "Fixed        0.225926\n",
       "Name: Crediting_type, dtype: float64"
      ]
     },
     "execution_count": 180,
     "metadata": {},
     "output_type": "execute_result"
    }
   ],
   "source": [
    "df['Crediting_type'].value_counts(normalize=True)"
   ]
  },
  {
   "cell_type": "code",
   "execution_count": 181,
   "id": "7b6ead25",
   "metadata": {},
   "outputs": [
    {
     "data": {
      "text/plain": [
       "Renewable    6054\n",
       "unknown      4139\n",
       "Fixed        2975\n",
       "Name: Crediting_type, dtype: int64"
      ]
     },
     "execution_count": 181,
     "metadata": {},
     "output_type": "execute_result"
    }
   ],
   "source": [
    "df['Crediting_type'].value_counts()"
   ]
  },
  {
   "cell_type": "code",
   "execution_count": 183,
   "id": "6a76d0df",
   "metadata": {},
   "outputs": [
    {
     "data": {
      "text/plain": [
       "Text(0.5, 1.0, 'The number of different types of crediting period')"
      ]
     },
     "execution_count": 183,
     "metadata": {},
     "output_type": "execute_result"
    },
    {
     "data": {
      "image/png": "[encoded data removed]",
      "text/plain": [
       "<Figure size 432x288 with 1 Axes>"
      ]
     },
     "metadata": {
      "needs_background": "light"
     },
     "output_type": "display_data"
    }
   ],
   "source": [
    "sns.countplot(df['Crediting_type'])\n",
    "plt.xticks(rotation=90)\n",
    "plt.title(\"The number of different types of crediting period\", fontsize = 15)"
   ]
  },
  {
   "cell_type": "code",
   "execution_count": 184,
   "id": "de2ec7b4",
   "metadata": {},
   "outputs": [
    {
     "data": {
      "text/plain": [
       "Crediting_type\n",
       "Renewable    195566.660555\n",
       "unknown      134130.842716\n",
       "Fixed        118106.218487\n",
       "Name: Reductions, dtype: float64"
      ]
     },
     "execution_count": 184,
     "metadata": {},
     "output_type": "execute_result"
    }
   ],
   "source": [
    "# The outcome might be caused by the percentage of the different crediting types.\n",
    "\n",
    "df['Reductions'].groupby(df['Crediting_type']).mean().sort_values(ascending=False)"
   ]
  },
  {
   "cell_type": "markdown",
   "id": "54b50251",
   "metadata": {},
   "source": [
    "## Total reductions"
   ]
  },
  {
   "cell_type": "code",
   "execution_count": 191,
   "id": "a6abdc5c",
   "metadata": {},
   "outputs": [
    {
     "data": {
      "text/plain": [
       "(-0.001, 14979.0]         2195\n",
       "(14979.0, 30646.0]        2195\n",
       "(52124.0, 93898.0]        2195\n",
       "(180601.5, 47808900.0]    2195\n",
       "(30646.0, 52124.0]        2194\n",
       "(93898.0, 180601.5]       2194\n",
       "Name: Reductions, dtype: int64"
      ]
     },
     "execution_count": 191,
     "metadata": {},
     "output_type": "execute_result"
    }
   ],
   "source": [
    "pd.qcut(df['Reductions'],6).value_counts()"
   ]
  },
  {
   "cell_type": "code",
   "execution_count": 240,
   "id": "c8e160f4",
   "metadata": {},
   "outputs": [
    {
     "data": {
      "text/plain": [
       "(-0.001, 17888.0]         0.200106\n",
       "(38005.8, 75390.0]        0.200030\n",
       "(150895.2, 47808900.0]    0.200030\n",
       "(75390.0, 150895.2]       0.199954\n",
       "(17888.0, 38005.8]        0.199878\n",
       "Name: Reductions, dtype: float64"
      ]
     },
     "execution_count": 240,
     "metadata": {},
     "output_type": "execute_result"
    }
   ],
   "source": [
    "pd.qcut(df['Reductions'],5).value_counts(normalize=True)"
   ]
  },
  {
   "cell_type": "code",
   "execution_count": 193,
   "id": "456c1536",
   "metadata": {},
   "outputs": [
    {
     "data": {
      "text/html": [
       "<div>\n",
       "<style scoped>\n",
       "    .dataframe tbody tr th:only-of-type {\n",
       "        vertical-align: middle;\n",
       "    }\n",
       "\n",
       "    .dataframe tbody tr th {\n",
       "        vertical-align: top;\n",
       "    }\n",
       "\n",
       "    .dataframe thead th {\n",
       "        text-align: right;\n",
       "    }\n",
       "</style>\n",
       "<table border=\"1\" class=\"dataframe\">\n",
       "  <thead>\n",
       "    <tr style=\"text-align: right;\">\n",
       "      <th>Methodologies</th>\n",
       "      <th>ACM</th>\n",
       "      <th>AM</th>\n",
       "      <th>AMS</th>\n",
       "      <th>AR-</th>\n",
       "    </tr>\n",
       "    <tr>\n",
       "      <th>Reductions</th>\n",
       "      <th></th>\n",
       "      <th></th>\n",
       "      <th></th>\n",
       "      <th></th>\n",
       "    </tr>\n",
       "  </thead>\n",
       "  <tbody>\n",
       "    <tr>\n",
       "      <th>(-0.001, 9243.0]</th>\n",
       "      <td>74</td>\n",
       "      <td>23</td>\n",
       "      <td>1166</td>\n",
       "      <td>55</td>\n",
       "    </tr>\n",
       "    <tr>\n",
       "      <th>(9243.0, 17888.0]</th>\n",
       "      <td>89</td>\n",
       "      <td>42</td>\n",
       "      <td>1176</td>\n",
       "      <td>10</td>\n",
       "    </tr>\n",
       "    <tr>\n",
       "      <th>(17888.0, 27192.2]</th>\n",
       "      <td>176</td>\n",
       "      <td>54</td>\n",
       "      <td>1075</td>\n",
       "      <td>11</td>\n",
       "    </tr>\n",
       "    <tr>\n",
       "      <th>(27192.2, 38005.8]</th>\n",
       "      <td>337</td>\n",
       "      <td>46</td>\n",
       "      <td>924</td>\n",
       "      <td>9</td>\n",
       "    </tr>\n",
       "    <tr>\n",
       "      <th>(38005.8, 52124.0]</th>\n",
       "      <td>479</td>\n",
       "      <td>64</td>\n",
       "      <td>766</td>\n",
       "      <td>8</td>\n",
       "    </tr>\n",
       "    <tr>\n",
       "      <th>(52124.0, 75390.0]</th>\n",
       "      <td>755</td>\n",
       "      <td>111</td>\n",
       "      <td>444</td>\n",
       "      <td>7</td>\n",
       "    </tr>\n",
       "    <tr>\n",
       "      <th>(75390.0, 101994.8]</th>\n",
       "      <td>1121</td>\n",
       "      <td>98</td>\n",
       "      <td>91</td>\n",
       "      <td>6</td>\n",
       "    </tr>\n",
       "    <tr>\n",
       "      <th>(101994.8, 150895.2]</th>\n",
       "      <td>1137</td>\n",
       "      <td>114</td>\n",
       "      <td>62</td>\n",
       "      <td>4</td>\n",
       "    </tr>\n",
       "    <tr>\n",
       "      <th>(150895.2, 269741.6]</th>\n",
       "      <td>1160</td>\n",
       "      <td>124</td>\n",
       "      <td>27</td>\n",
       "      <td>6</td>\n",
       "    </tr>\n",
       "    <tr>\n",
       "      <th>(269741.6, 47808900.0]</th>\n",
       "      <td>970</td>\n",
       "      <td>277</td>\n",
       "      <td>62</td>\n",
       "      <td>8</td>\n",
       "    </tr>\n",
       "  </tbody>\n",
       "</table>\n",
       "</div>"
      ],
      "text/plain": [
       "Methodologies            ACM   AM   AMS  AR-\n",
       "Reductions                                  \n",
       "(-0.001, 9243.0]          74   23  1166   55\n",
       "(9243.0, 17888.0]         89   42  1176   10\n",
       "(17888.0, 27192.2]       176   54  1075   11\n",
       "(27192.2, 38005.8]       337   46   924    9\n",
       "(38005.8, 52124.0]       479   64   766    8\n",
       "(52124.0, 75390.0]       755  111   444    7\n",
       "(75390.0, 101994.8]     1121   98    91    6\n",
       "(101994.8, 150895.2]    1137  114    62    4\n",
       "(150895.2, 269741.6]    1160  124    27    6\n",
       "(269741.6, 47808900.0]   970  277    62    8"
      ]
     },
     "execution_count": 193,
     "metadata": {},
     "output_type": "execute_result"
    }
   ],
   "source": [
    "pd.crosstab(pd.qcut(df['Reductions'], 10), columns=df['Methodologies'])"
   ]
  },
  {
   "cell_type": "code",
   "execution_count": 209,
   "id": "cc59a222",
   "metadata": {},
   "outputs": [
    {
     "data": {
      "text/html": [
       "<div>\n",
       "<style scoped>\n",
       "    .dataframe tbody tr th:only-of-type {\n",
       "        vertical-align: middle;\n",
       "    }\n",
       "\n",
       "    .dataframe tbody tr th {\n",
       "        vertical-align: top;\n",
       "    }\n",
       "\n",
       "    .dataframe thead th {\n",
       "        text-align: right;\n",
       "    }\n",
       "</style>\n",
       "<table border=\"1\" class=\"dataframe\">\n",
       "  <thead>\n",
       "    <tr style=\"text-align: right;\">\n",
       "      <th>Registered or rejected</th>\n",
       "      <th>0</th>\n",
       "      <th>2004</th>\n",
       "      <th>2005</th>\n",
       "      <th>2006</th>\n",
       "      <th>2007</th>\n",
       "      <th>2008</th>\n",
       "      <th>2009</th>\n",
       "      <th>2010</th>\n",
       "      <th>2011</th>\n",
       "      <th>2012</th>\n",
       "      <th>2013</th>\n",
       "      <th>2014</th>\n",
       "      <th>2015</th>\n",
       "      <th>2016</th>\n",
       "      <th>2017</th>\n",
       "      <th>2018</th>\n",
       "      <th>2019</th>\n",
       "      <th>2020</th>\n",
       "      <th>2021</th>\n",
       "    </tr>\n",
       "    <tr>\n",
       "      <th>Reductions</th>\n",
       "      <th></th>\n",
       "      <th></th>\n",
       "      <th></th>\n",
       "      <th></th>\n",
       "      <th></th>\n",
       "      <th></th>\n",
       "      <th></th>\n",
       "      <th></th>\n",
       "      <th></th>\n",
       "      <th></th>\n",
       "      <th></th>\n",
       "      <th></th>\n",
       "      <th></th>\n",
       "      <th></th>\n",
       "      <th></th>\n",
       "      <th></th>\n",
       "      <th></th>\n",
       "      <th></th>\n",
       "      <th></th>\n",
       "    </tr>\n",
       "  </thead>\n",
       "  <tbody>\n",
       "    <tr>\n",
       "      <th>(-0.001, 9243.0]</th>\n",
       "      <td>568</td>\n",
       "      <td>0</td>\n",
       "      <td>3</td>\n",
       "      <td>59</td>\n",
       "      <td>59</td>\n",
       "      <td>32</td>\n",
       "      <td>54</td>\n",
       "      <td>45</td>\n",
       "      <td>79</td>\n",
       "      <td>263</td>\n",
       "      <td>63</td>\n",
       "      <td>35</td>\n",
       "      <td>23</td>\n",
       "      <td>12</td>\n",
       "      <td>7</td>\n",
       "      <td>1</td>\n",
       "      <td>1</td>\n",
       "      <td>14</td>\n",
       "      <td>0</td>\n",
       "    </tr>\n",
       "    <tr>\n",
       "      <th>(9243.0, 17888.0]</th>\n",
       "      <td>551</td>\n",
       "      <td>0</td>\n",
       "      <td>4</td>\n",
       "      <td>55</td>\n",
       "      <td>53</td>\n",
       "      <td>34</td>\n",
       "      <td>57</td>\n",
       "      <td>66</td>\n",
       "      <td>90</td>\n",
       "      <td>280</td>\n",
       "      <td>43</td>\n",
       "      <td>34</td>\n",
       "      <td>21</td>\n",
       "      <td>8</td>\n",
       "      <td>6</td>\n",
       "      <td>3</td>\n",
       "      <td>7</td>\n",
       "      <td>5</td>\n",
       "      <td>0</td>\n",
       "    </tr>\n",
       "    <tr>\n",
       "      <th>(17888.0, 27192.2]</th>\n",
       "      <td>533</td>\n",
       "      <td>0</td>\n",
       "      <td>9</td>\n",
       "      <td>47</td>\n",
       "      <td>52</td>\n",
       "      <td>42</td>\n",
       "      <td>70</td>\n",
       "      <td>86</td>\n",
       "      <td>112</td>\n",
       "      <td>268</td>\n",
       "      <td>37</td>\n",
       "      <td>19</td>\n",
       "      <td>14</td>\n",
       "      <td>10</td>\n",
       "      <td>6</td>\n",
       "      <td>2</td>\n",
       "      <td>7</td>\n",
       "      <td>2</td>\n",
       "      <td>0</td>\n",
       "    </tr>\n",
       "    <tr>\n",
       "      <th>(27192.2, 38005.8]</th>\n",
       "      <td>520</td>\n",
       "      <td>0</td>\n",
       "      <td>6</td>\n",
       "      <td>29</td>\n",
       "      <td>47</td>\n",
       "      <td>52</td>\n",
       "      <td>67</td>\n",
       "      <td>94</td>\n",
       "      <td>114</td>\n",
       "      <td>317</td>\n",
       "      <td>29</td>\n",
       "      <td>18</td>\n",
       "      <td>6</td>\n",
       "      <td>5</td>\n",
       "      <td>7</td>\n",
       "      <td>1</td>\n",
       "      <td>4</td>\n",
       "      <td>0</td>\n",
       "      <td>0</td>\n",
       "    </tr>\n",
       "    <tr>\n",
       "      <th>(38005.8, 52124.0]</th>\n",
       "      <td>535</td>\n",
       "      <td>0</td>\n",
       "      <td>9</td>\n",
       "      <td>49</td>\n",
       "      <td>44</td>\n",
       "      <td>57</td>\n",
       "      <td>76</td>\n",
       "      <td>68</td>\n",
       "      <td>102</td>\n",
       "      <td>294</td>\n",
       "      <td>40</td>\n",
       "      <td>20</td>\n",
       "      <td>10</td>\n",
       "      <td>7</td>\n",
       "      <td>3</td>\n",
       "      <td>1</td>\n",
       "      <td>1</td>\n",
       "      <td>1</td>\n",
       "      <td>0</td>\n",
       "    </tr>\n",
       "    <tr>\n",
       "      <th>(52124.0, 75390.0]</th>\n",
       "      <td>487</td>\n",
       "      <td>0</td>\n",
       "      <td>6</td>\n",
       "      <td>40</td>\n",
       "      <td>51</td>\n",
       "      <td>60</td>\n",
       "      <td>104</td>\n",
       "      <td>81</td>\n",
       "      <td>114</td>\n",
       "      <td>299</td>\n",
       "      <td>43</td>\n",
       "      <td>12</td>\n",
       "      <td>7</td>\n",
       "      <td>4</td>\n",
       "      <td>4</td>\n",
       "      <td>1</td>\n",
       "      <td>3</td>\n",
       "      <td>1</td>\n",
       "      <td>0</td>\n",
       "    </tr>\n",
       "    <tr>\n",
       "      <th>(75390.0, 101994.8]</th>\n",
       "      <td>327</td>\n",
       "      <td>0</td>\n",
       "      <td>7</td>\n",
       "      <td>29</td>\n",
       "      <td>25</td>\n",
       "      <td>36</td>\n",
       "      <td>55</td>\n",
       "      <td>61</td>\n",
       "      <td>128</td>\n",
       "      <td>577</td>\n",
       "      <td>30</td>\n",
       "      <td>18</td>\n",
       "      <td>2</td>\n",
       "      <td>5</td>\n",
       "      <td>5</td>\n",
       "      <td>4</td>\n",
       "      <td>0</td>\n",
       "      <td>7</td>\n",
       "      <td>0</td>\n",
       "    </tr>\n",
       "    <tr>\n",
       "      <th>(101994.8, 150895.2]</th>\n",
       "      <td>356</td>\n",
       "      <td>0</td>\n",
       "      <td>6</td>\n",
       "      <td>23</td>\n",
       "      <td>25</td>\n",
       "      <td>43</td>\n",
       "      <td>95</td>\n",
       "      <td>127</td>\n",
       "      <td>170</td>\n",
       "      <td>415</td>\n",
       "      <td>28</td>\n",
       "      <td>11</td>\n",
       "      <td>4</td>\n",
       "      <td>3</td>\n",
       "      <td>3</td>\n",
       "      <td>0</td>\n",
       "      <td>1</td>\n",
       "      <td>7</td>\n",
       "      <td>0</td>\n",
       "    </tr>\n",
       "    <tr>\n",
       "      <th>(150895.2, 269741.6]</th>\n",
       "      <td>326</td>\n",
       "      <td>0</td>\n",
       "      <td>5</td>\n",
       "      <td>35</td>\n",
       "      <td>54</td>\n",
       "      <td>62</td>\n",
       "      <td>85</td>\n",
       "      <td>136</td>\n",
       "      <td>126</td>\n",
       "      <td>434</td>\n",
       "      <td>24</td>\n",
       "      <td>11</td>\n",
       "      <td>4</td>\n",
       "      <td>6</td>\n",
       "      <td>0</td>\n",
       "      <td>4</td>\n",
       "      <td>1</td>\n",
       "      <td>4</td>\n",
       "      <td>0</td>\n",
       "    </tr>\n",
       "    <tr>\n",
       "      <th>(269741.6, 47808900.0]</th>\n",
       "      <td>412</td>\n",
       "      <td>1</td>\n",
       "      <td>9</td>\n",
       "      <td>53</td>\n",
       "      <td>64</td>\n",
       "      <td>63</td>\n",
       "      <td>94</td>\n",
       "      <td>99</td>\n",
       "      <td>114</td>\n",
       "      <td>302</td>\n",
       "      <td>41</td>\n",
       "      <td>15</td>\n",
       "      <td>11</td>\n",
       "      <td>9</td>\n",
       "      <td>5</td>\n",
       "      <td>5</td>\n",
       "      <td>9</td>\n",
       "      <td>10</td>\n",
       "      <td>1</td>\n",
       "    </tr>\n",
       "  </tbody>\n",
       "</table>\n",
       "</div>"
      ],
      "text/plain": [
       "Registered or rejected  0     2004  2005  2006  2007  2008  2009  2010  2011  \\\n",
       "Reductions                                                                     \n",
       "(-0.001, 9243.0]         568     0     3    59    59    32    54    45    79   \n",
       "(9243.0, 17888.0]        551     0     4    55    53    34    57    66    90   \n",
       "(17888.0, 27192.2]       533     0     9    47    52    42    70    86   112   \n",
       "(27192.2, 38005.8]       520     0     6    29    47    52    67    94   114   \n",
       "(38005.8, 52124.0]       535     0     9    49    44    57    76    68   102   \n",
       "(52124.0, 75390.0]       487     0     6    40    51    60   104    81   114   \n",
       "(75390.0, 101994.8]      327     0     7    29    25    36    55    61   128   \n",
       "(101994.8, 150895.2]     356     0     6    23    25    43    95   127   170   \n",
       "(150895.2, 269741.6]     326     0     5    35    54    62    85   136   126   \n",
       "(269741.6, 47808900.0]   412     1     9    53    64    63    94    99   114   \n",
       "\n",
       "Registered or rejected  2012  2013  2014  2015  2016  2017  2018  2019  2020  \\\n",
       "Reductions                                                                     \n",
       "(-0.001, 9243.0]         263    63    35    23    12     7     1     1    14   \n",
       "(9243.0, 17888.0]        280    43    34    21     8     6     3     7     5   \n",
       "(17888.0, 27192.2]       268    37    19    14    10     6     2     7     2   \n",
       "(27192.2, 38005.8]       317    29    18     6     5     7     1     4     0   \n",
       "(38005.8, 52124.0]       294    40    20    10     7     3     1     1     1   \n",
       "(52124.0, 75390.0]       299    43    12     7     4     4     1     3     1   \n",
       "(75390.0, 101994.8]      577    30    18     2     5     5     4     0     7   \n",
       "(101994.8, 150895.2]     415    28    11     4     3     3     0     1     7   \n",
       "(150895.2, 269741.6]     434    24    11     4     6     0     4     1     4   \n",
       "(269741.6, 47808900.0]   302    41    15    11     9     5     5     9    10   \n",
       "\n",
       "Registered or rejected  2021  \n",
       "Reductions                    \n",
       "(-0.001, 9243.0]           0  \n",
       "(9243.0, 17888.0]          0  \n",
       "(17888.0, 27192.2]         0  \n",
       "(27192.2, 38005.8]         0  \n",
       "(38005.8, 52124.0]         0  \n",
       "(52124.0, 75390.0]         0  \n",
       "(75390.0, 101994.8]        0  \n",
       "(101994.8, 150895.2]       0  \n",
       "(150895.2, 269741.6]       0  \n",
       "(269741.6, 47808900.0]     1  "
      ]
     },
     "execution_count": 209,
     "metadata": {},
     "output_type": "execute_result"
    }
   ],
   "source": [
    "pd.crosstab(pd.qcut(df['Reductions'], 10), columns=df['Registered or rejected'])"
   ]
  },
  {
   "cell_type": "code",
   "execution_count": 5,
   "id": "6e930119",
   "metadata": {},
   "outputs": [
    {
     "data": {
      "text/html": [
       "<div>\n",
       "<style scoped>\n",
       "    .dataframe tbody tr th:only-of-type {\n",
       "        vertical-align: middle;\n",
       "    }\n",
       "\n",
       "    .dataframe tbody tr th {\n",
       "        vertical-align: top;\n",
       "    }\n",
       "\n",
       "    .dataframe thead th {\n",
       "        text-align: right;\n",
       "    }\n",
       "</style>\n",
       "<table border=\"1\" class=\"dataframe\">\n",
       "  <thead>\n",
       "    <tr style=\"text-align: right;\">\n",
       "      <th>First_crediting</th>\n",
       "      <th>2000</th>\n",
       "      <th>2001</th>\n",
       "      <th>2002</th>\n",
       "      <th>2003</th>\n",
       "      <th>2004</th>\n",
       "      <th>2005</th>\n",
       "      <th>2006</th>\n",
       "      <th>2007</th>\n",
       "      <th>2008</th>\n",
       "      <th>2009</th>\n",
       "      <th>...</th>\n",
       "      <th>2015</th>\n",
       "      <th>2016</th>\n",
       "      <th>2017</th>\n",
       "      <th>2018</th>\n",
       "      <th>2019</th>\n",
       "      <th>2020</th>\n",
       "      <th>2021</th>\n",
       "      <th>2022</th>\n",
       "      <th>2023</th>\n",
       "      <th>2024</th>\n",
       "    </tr>\n",
       "    <tr>\n",
       "      <th>Reductions</th>\n",
       "      <th></th>\n",
       "      <th></th>\n",
       "      <th></th>\n",
       "      <th></th>\n",
       "      <th></th>\n",
       "      <th></th>\n",
       "      <th></th>\n",
       "      <th></th>\n",
       "      <th></th>\n",
       "      <th></th>\n",
       "      <th></th>\n",
       "      <th></th>\n",
       "      <th></th>\n",
       "      <th></th>\n",
       "      <th></th>\n",
       "      <th></th>\n",
       "      <th></th>\n",
       "      <th></th>\n",
       "      <th></th>\n",
       "      <th></th>\n",
       "      <th></th>\n",
       "    </tr>\n",
       "  </thead>\n",
       "  <tbody>\n",
       "    <tr>\n",
       "      <th>(-0.001, 9243.0]</th>\n",
       "      <td>7</td>\n",
       "      <td>27</td>\n",
       "      <td>8</td>\n",
       "      <td>11</td>\n",
       "      <td>22</td>\n",
       "      <td>14</td>\n",
       "      <td>39</td>\n",
       "      <td>130</td>\n",
       "      <td>112</td>\n",
       "      <td>101</td>\n",
       "      <td>...</td>\n",
       "      <td>26</td>\n",
       "      <td>20</td>\n",
       "      <td>9</td>\n",
       "      <td>2</td>\n",
       "      <td>20</td>\n",
       "      <td>55</td>\n",
       "      <td>5</td>\n",
       "      <td>8</td>\n",
       "      <td>0</td>\n",
       "      <td>0</td>\n",
       "    </tr>\n",
       "    <tr>\n",
       "      <th>(9243.0, 17888.0]</th>\n",
       "      <td>3</td>\n",
       "      <td>10</td>\n",
       "      <td>15</td>\n",
       "      <td>20</td>\n",
       "      <td>22</td>\n",
       "      <td>11</td>\n",
       "      <td>48</td>\n",
       "      <td>119</td>\n",
       "      <td>137</td>\n",
       "      <td>129</td>\n",
       "      <td>...</td>\n",
       "      <td>29</td>\n",
       "      <td>25</td>\n",
       "      <td>7</td>\n",
       "      <td>7</td>\n",
       "      <td>6</td>\n",
       "      <td>14</td>\n",
       "      <td>2</td>\n",
       "      <td>2</td>\n",
       "      <td>0</td>\n",
       "      <td>0</td>\n",
       "    </tr>\n",
       "    <tr>\n",
       "      <th>(17888.0, 27192.2]</th>\n",
       "      <td>1</td>\n",
       "      <td>12</td>\n",
       "      <td>10</td>\n",
       "      <td>18</td>\n",
       "      <td>14</td>\n",
       "      <td>19</td>\n",
       "      <td>38</td>\n",
       "      <td>107</td>\n",
       "      <td>138</td>\n",
       "      <td>148</td>\n",
       "      <td>...</td>\n",
       "      <td>27</td>\n",
       "      <td>21</td>\n",
       "      <td>8</td>\n",
       "      <td>6</td>\n",
       "      <td>11</td>\n",
       "      <td>3</td>\n",
       "      <td>3</td>\n",
       "      <td>0</td>\n",
       "      <td>0</td>\n",
       "      <td>0</td>\n",
       "    </tr>\n",
       "    <tr>\n",
       "      <th>(27192.2, 38005.8]</th>\n",
       "      <td>2</td>\n",
       "      <td>7</td>\n",
       "      <td>8</td>\n",
       "      <td>11</td>\n",
       "      <td>11</td>\n",
       "      <td>12</td>\n",
       "      <td>28</td>\n",
       "      <td>88</td>\n",
       "      <td>157</td>\n",
       "      <td>159</td>\n",
       "      <td>...</td>\n",
       "      <td>17</td>\n",
       "      <td>6</td>\n",
       "      <td>11</td>\n",
       "      <td>3</td>\n",
       "      <td>4</td>\n",
       "      <td>2</td>\n",
       "      <td>3</td>\n",
       "      <td>1</td>\n",
       "      <td>0</td>\n",
       "      <td>0</td>\n",
       "    </tr>\n",
       "    <tr>\n",
       "      <th>(38005.8, 52124.0]</th>\n",
       "      <td>2</td>\n",
       "      <td>6</td>\n",
       "      <td>6</td>\n",
       "      <td>15</td>\n",
       "      <td>3</td>\n",
       "      <td>21</td>\n",
       "      <td>34</td>\n",
       "      <td>97</td>\n",
       "      <td>165</td>\n",
       "      <td>144</td>\n",
       "      <td>...</td>\n",
       "      <td>32</td>\n",
       "      <td>13</td>\n",
       "      <td>8</td>\n",
       "      <td>4</td>\n",
       "      <td>5</td>\n",
       "      <td>1</td>\n",
       "      <td>4</td>\n",
       "      <td>0</td>\n",
       "      <td>0</td>\n",
       "      <td>0</td>\n",
       "    </tr>\n",
       "    <tr>\n",
       "      <th>(52124.0, 75390.0]</th>\n",
       "      <td>3</td>\n",
       "      <td>4</td>\n",
       "      <td>7</td>\n",
       "      <td>8</td>\n",
       "      <td>12</td>\n",
       "      <td>13</td>\n",
       "      <td>29</td>\n",
       "      <td>80</td>\n",
       "      <td>165</td>\n",
       "      <td>183</td>\n",
       "      <td>...</td>\n",
       "      <td>26</td>\n",
       "      <td>9</td>\n",
       "      <td>7</td>\n",
       "      <td>4</td>\n",
       "      <td>7</td>\n",
       "      <td>1</td>\n",
       "      <td>3</td>\n",
       "      <td>0</td>\n",
       "      <td>0</td>\n",
       "      <td>1</td>\n",
       "    </tr>\n",
       "    <tr>\n",
       "      <th>(75390.0, 101994.8]</th>\n",
       "      <td>3</td>\n",
       "      <td>2</td>\n",
       "      <td>2</td>\n",
       "      <td>3</td>\n",
       "      <td>7</td>\n",
       "      <td>12</td>\n",
       "      <td>26</td>\n",
       "      <td>59</td>\n",
       "      <td>102</td>\n",
       "      <td>97</td>\n",
       "      <td>...</td>\n",
       "      <td>23</td>\n",
       "      <td>13</td>\n",
       "      <td>9</td>\n",
       "      <td>6</td>\n",
       "      <td>3</td>\n",
       "      <td>7</td>\n",
       "      <td>0</td>\n",
       "      <td>0</td>\n",
       "      <td>0</td>\n",
       "      <td>0</td>\n",
       "    </tr>\n",
       "    <tr>\n",
       "      <th>(101994.8, 150895.2]</th>\n",
       "      <td>0</td>\n",
       "      <td>3</td>\n",
       "      <td>2</td>\n",
       "      <td>5</td>\n",
       "      <td>8</td>\n",
       "      <td>12</td>\n",
       "      <td>18</td>\n",
       "      <td>52</td>\n",
       "      <td>111</td>\n",
       "      <td>149</td>\n",
       "      <td>...</td>\n",
       "      <td>19</td>\n",
       "      <td>11</td>\n",
       "      <td>7</td>\n",
       "      <td>2</td>\n",
       "      <td>5</td>\n",
       "      <td>6</td>\n",
       "      <td>7</td>\n",
       "      <td>0</td>\n",
       "      <td>1</td>\n",
       "      <td>0</td>\n",
       "    </tr>\n",
       "    <tr>\n",
       "      <th>(150895.2, 269741.6]</th>\n",
       "      <td>1</td>\n",
       "      <td>4</td>\n",
       "      <td>8</td>\n",
       "      <td>3</td>\n",
       "      <td>5</td>\n",
       "      <td>10</td>\n",
       "      <td>22</td>\n",
       "      <td>81</td>\n",
       "      <td>133</td>\n",
       "      <td>119</td>\n",
       "      <td>...</td>\n",
       "      <td>28</td>\n",
       "      <td>25</td>\n",
       "      <td>11</td>\n",
       "      <td>4</td>\n",
       "      <td>4</td>\n",
       "      <td>4</td>\n",
       "      <td>6</td>\n",
       "      <td>0</td>\n",
       "      <td>0</td>\n",
       "      <td>0</td>\n",
       "    </tr>\n",
       "    <tr>\n",
       "      <th>(269741.6, 47808900.0]</th>\n",
       "      <td>2</td>\n",
       "      <td>3</td>\n",
       "      <td>2</td>\n",
       "      <td>10</td>\n",
       "      <td>11</td>\n",
       "      <td>11</td>\n",
       "      <td>41</td>\n",
       "      <td>98</td>\n",
       "      <td>134</td>\n",
       "      <td>126</td>\n",
       "      <td>...</td>\n",
       "      <td>64</td>\n",
       "      <td>45</td>\n",
       "      <td>20</td>\n",
       "      <td>15</td>\n",
       "      <td>16</td>\n",
       "      <td>18</td>\n",
       "      <td>3</td>\n",
       "      <td>3</td>\n",
       "      <td>1</td>\n",
       "      <td>0</td>\n",
       "    </tr>\n",
       "  </tbody>\n",
       "</table>\n",
       "<p>10 rows × 25 columns</p>\n",
       "</div>"
      ],
      "text/plain": [
       "First_crediting         2000  2001  2002  2003  2004  2005  2006  2007  2008  \\\n",
       "Reductions                                                                     \n",
       "(-0.001, 9243.0]           7    27     8    11    22    14    39   130   112   \n",
       "(9243.0, 17888.0]          3    10    15    20    22    11    48   119   137   \n",
       "(17888.0, 27192.2]         1    12    10    18    14    19    38   107   138   \n",
       "(27192.2, 38005.8]         2     7     8    11    11    12    28    88   157   \n",
       "(38005.8, 52124.0]         2     6     6    15     3    21    34    97   165   \n",
       "(52124.0, 75390.0]         3     4     7     8    12    13    29    80   165   \n",
       "(75390.0, 101994.8]        3     2     2     3     7    12    26    59   102   \n",
       "(101994.8, 150895.2]       0     3     2     5     8    12    18    52   111   \n",
       "(150895.2, 269741.6]       1     4     8     3     5    10    22    81   133   \n",
       "(269741.6, 47808900.0]     2     3     2    10    11    11    41    98   134   \n",
       "\n",
       "First_crediting         2009  ...  2015  2016  2017  2018  2019  2020  2021  \\\n",
       "Reductions                    ...                                             \n",
       "(-0.001, 9243.0]         101  ...    26    20     9     2    20    55     5   \n",
       "(9243.0, 17888.0]        129  ...    29    25     7     7     6    14     2   \n",
       "(17888.0, 27192.2]       148  ...    27    21     8     6    11     3     3   \n",
       "(27192.2, 38005.8]       159  ...    17     6    11     3     4     2     3   \n",
       "(38005.8, 52124.0]       144  ...    32    13     8     4     5     1     4   \n",
       "(52124.0, 75390.0]       183  ...    26     9     7     4     7     1     3   \n",
       "(75390.0, 101994.8]       97  ...    23    13     9     6     3     7     0   \n",
       "(101994.8, 150895.2]     149  ...    19    11     7     2     5     6     7   \n",
       "(150895.2, 269741.6]     119  ...    28    25    11     4     4     4     6   \n",
       "(269741.6, 47808900.0]   126  ...    64    45    20    15    16    18     3   \n",
       "\n",
       "First_crediting         2022  2023  2024  \n",
       "Reductions                                \n",
       "(-0.001, 9243.0]           8     0     0  \n",
       "(9243.0, 17888.0]          2     0     0  \n",
       "(17888.0, 27192.2]         0     0     0  \n",
       "(27192.2, 38005.8]         1     0     0  \n",
       "(38005.8, 52124.0]         0     0     0  \n",
       "(52124.0, 75390.0]         0     0     1  \n",
       "(75390.0, 101994.8]        0     0     0  \n",
       "(101994.8, 150895.2]       0     1     0  \n",
       "(150895.2, 269741.6]       0     0     0  \n",
       "(269741.6, 47808900.0]     3     1     0  \n",
       "\n",
       "[10 rows x 25 columns]"
      ]
     },
     "execution_count": 5,
     "metadata": {},
     "output_type": "execute_result"
    }
   ],
   "source": [
    "pd.crosstab(pd.qcut(df['Reductions'], 10), columns=df['First_crediting'])"
   ]
  },
  {
   "cell_type": "code",
   "execution_count": 223,
   "id": "f3430e4e",
   "metadata": {},
   "outputs": [
    {
     "data": {
      "text/html": [
       "<div>\n",
       "<style scoped>\n",
       "    .dataframe tbody tr th:only-of-type {\n",
       "        vertical-align: middle;\n",
       "    }\n",
       "\n",
       "    .dataframe tbody tr th {\n",
       "        vertical-align: top;\n",
       "    }\n",
       "\n",
       "    .dataframe thead th {\n",
       "        text-align: right;\n",
       "    }\n",
       "</style>\n",
       "<table border=\"1\" class=\"dataframe\">\n",
       "  <thead>\n",
       "    <tr style=\"text-align: right;\">\n",
       "      <th>End_first</th>\n",
       "      <th>2007</th>\n",
       "      <th>2008</th>\n",
       "      <th>2009</th>\n",
       "      <th>2010</th>\n",
       "      <th>2011</th>\n",
       "      <th>2012</th>\n",
       "      <th>2013</th>\n",
       "      <th>2014</th>\n",
       "      <th>2015</th>\n",
       "      <th>2016</th>\n",
       "      <th>...</th>\n",
       "      <th>2034</th>\n",
       "      <th>2035</th>\n",
       "      <th>2036</th>\n",
       "      <th>2037</th>\n",
       "      <th>2038</th>\n",
       "      <th>2039</th>\n",
       "      <th>2041</th>\n",
       "      <th>2044</th>\n",
       "      <th>2045</th>\n",
       "      <th>2047</th>\n",
       "    </tr>\n",
       "    <tr>\n",
       "      <th>Reductions</th>\n",
       "      <th></th>\n",
       "      <th></th>\n",
       "      <th></th>\n",
       "      <th></th>\n",
       "      <th></th>\n",
       "      <th></th>\n",
       "      <th></th>\n",
       "      <th></th>\n",
       "      <th></th>\n",
       "      <th></th>\n",
       "      <th></th>\n",
       "      <th></th>\n",
       "      <th></th>\n",
       "      <th></th>\n",
       "      <th></th>\n",
       "      <th></th>\n",
       "      <th></th>\n",
       "      <th></th>\n",
       "      <th></th>\n",
       "      <th></th>\n",
       "      <th></th>\n",
       "    </tr>\n",
       "  </thead>\n",
       "  <tbody>\n",
       "    <tr>\n",
       "      <th>(-0.001, 9243.0]</th>\n",
       "      <td>3</td>\n",
       "      <td>4</td>\n",
       "      <td>3</td>\n",
       "      <td>16</td>\n",
       "      <td>17</td>\n",
       "      <td>15</td>\n",
       "      <td>25</td>\n",
       "      <td>44</td>\n",
       "      <td>34</td>\n",
       "      <td>74</td>\n",
       "      <td>...</td>\n",
       "      <td>1</td>\n",
       "      <td>0</td>\n",
       "      <td>2</td>\n",
       "      <td>2</td>\n",
       "      <td>3</td>\n",
       "      <td>1</td>\n",
       "      <td>1</td>\n",
       "      <td>0</td>\n",
       "      <td>0</td>\n",
       "      <td>1</td>\n",
       "    </tr>\n",
       "    <tr>\n",
       "      <th>(9243.0, 17888.0]</th>\n",
       "      <td>0</td>\n",
       "      <td>4</td>\n",
       "      <td>7</td>\n",
       "      <td>15</td>\n",
       "      <td>10</td>\n",
       "      <td>15</td>\n",
       "      <td>23</td>\n",
       "      <td>47</td>\n",
       "      <td>38</td>\n",
       "      <td>107</td>\n",
       "      <td>...</td>\n",
       "      <td>0</td>\n",
       "      <td>0</td>\n",
       "      <td>1</td>\n",
       "      <td>0</td>\n",
       "      <td>1</td>\n",
       "      <td>0</td>\n",
       "      <td>0</td>\n",
       "      <td>0</td>\n",
       "      <td>0</td>\n",
       "      <td>0</td>\n",
       "    </tr>\n",
       "    <tr>\n",
       "      <th>(17888.0, 27192.2]</th>\n",
       "      <td>1</td>\n",
       "      <td>8</td>\n",
       "      <td>5</td>\n",
       "      <td>7</td>\n",
       "      <td>6</td>\n",
       "      <td>11</td>\n",
       "      <td>30</td>\n",
       "      <td>56</td>\n",
       "      <td>59</td>\n",
       "      <td>100</td>\n",
       "      <td>...</td>\n",
       "      <td>0</td>\n",
       "      <td>1</td>\n",
       "      <td>2</td>\n",
       "      <td>1</td>\n",
       "      <td>0</td>\n",
       "      <td>1</td>\n",
       "      <td>1</td>\n",
       "      <td>0</td>\n",
       "      <td>0</td>\n",
       "      <td>0</td>\n",
       "    </tr>\n",
       "    <tr>\n",
       "      <th>(27192.2, 38005.8]</th>\n",
       "      <td>0</td>\n",
       "      <td>3</td>\n",
       "      <td>4</td>\n",
       "      <td>9</td>\n",
       "      <td>10</td>\n",
       "      <td>6</td>\n",
       "      <td>16</td>\n",
       "      <td>46</td>\n",
       "      <td>93</td>\n",
       "      <td>117</td>\n",
       "      <td>...</td>\n",
       "      <td>0</td>\n",
       "      <td>0</td>\n",
       "      <td>2</td>\n",
       "      <td>1</td>\n",
       "      <td>1</td>\n",
       "      <td>0</td>\n",
       "      <td>0</td>\n",
       "      <td>1</td>\n",
       "      <td>1</td>\n",
       "      <td>0</td>\n",
       "    </tr>\n",
       "    <tr>\n",
       "      <th>(38005.8, 52124.0]</th>\n",
       "      <td>1</td>\n",
       "      <td>4</td>\n",
       "      <td>5</td>\n",
       "      <td>8</td>\n",
       "      <td>6</td>\n",
       "      <td>15</td>\n",
       "      <td>27</td>\n",
       "      <td>59</td>\n",
       "      <td>78</td>\n",
       "      <td>111</td>\n",
       "      <td>...</td>\n",
       "      <td>0</td>\n",
       "      <td>0</td>\n",
       "      <td>1</td>\n",
       "      <td>0</td>\n",
       "      <td>1</td>\n",
       "      <td>0</td>\n",
       "      <td>1</td>\n",
       "      <td>0</td>\n",
       "      <td>0</td>\n",
       "      <td>0</td>\n",
       "    </tr>\n",
       "    <tr>\n",
       "      <th>(52124.0, 75390.0]</th>\n",
       "      <td>0</td>\n",
       "      <td>2</td>\n",
       "      <td>3</td>\n",
       "      <td>7</td>\n",
       "      <td>7</td>\n",
       "      <td>13</td>\n",
       "      <td>18</td>\n",
       "      <td>47</td>\n",
       "      <td>85</td>\n",
       "      <td>129</td>\n",
       "      <td>...</td>\n",
       "      <td>0</td>\n",
       "      <td>0</td>\n",
       "      <td>0</td>\n",
       "      <td>0</td>\n",
       "      <td>1</td>\n",
       "      <td>0</td>\n",
       "      <td>0</td>\n",
       "      <td>0</td>\n",
       "      <td>0</td>\n",
       "      <td>0</td>\n",
       "    </tr>\n",
       "    <tr>\n",
       "      <th>(75390.0, 101994.8]</th>\n",
       "      <td>1</td>\n",
       "      <td>2</td>\n",
       "      <td>1</td>\n",
       "      <td>4</td>\n",
       "      <td>2</td>\n",
       "      <td>6</td>\n",
       "      <td>12</td>\n",
       "      <td>36</td>\n",
       "      <td>54</td>\n",
       "      <td>79</td>\n",
       "      <td>...</td>\n",
       "      <td>0</td>\n",
       "      <td>0</td>\n",
       "      <td>0</td>\n",
       "      <td>0</td>\n",
       "      <td>0</td>\n",
       "      <td>0</td>\n",
       "      <td>1</td>\n",
       "      <td>0</td>\n",
       "      <td>0</td>\n",
       "      <td>0</td>\n",
       "    </tr>\n",
       "    <tr>\n",
       "      <th>(101994.8, 150895.2]</th>\n",
       "      <td>1</td>\n",
       "      <td>2</td>\n",
       "      <td>2</td>\n",
       "      <td>2</td>\n",
       "      <td>5</td>\n",
       "      <td>3</td>\n",
       "      <td>9</td>\n",
       "      <td>42</td>\n",
       "      <td>62</td>\n",
       "      <td>119</td>\n",
       "      <td>...</td>\n",
       "      <td>0</td>\n",
       "      <td>0</td>\n",
       "      <td>0</td>\n",
       "      <td>0</td>\n",
       "      <td>0</td>\n",
       "      <td>2</td>\n",
       "      <td>0</td>\n",
       "      <td>0</td>\n",
       "      <td>0</td>\n",
       "      <td>0</td>\n",
       "    </tr>\n",
       "    <tr>\n",
       "      <th>(150895.2, 269741.6]</th>\n",
       "      <td>2</td>\n",
       "      <td>2</td>\n",
       "      <td>6</td>\n",
       "      <td>2</td>\n",
       "      <td>4</td>\n",
       "      <td>9</td>\n",
       "      <td>20</td>\n",
       "      <td>61</td>\n",
       "      <td>75</td>\n",
       "      <td>107</td>\n",
       "      <td>...</td>\n",
       "      <td>0</td>\n",
       "      <td>0</td>\n",
       "      <td>0</td>\n",
       "      <td>0</td>\n",
       "      <td>0</td>\n",
       "      <td>0</td>\n",
       "      <td>0</td>\n",
       "      <td>0</td>\n",
       "      <td>0</td>\n",
       "      <td>0</td>\n",
       "    </tr>\n",
       "    <tr>\n",
       "      <th>(269741.6, 47808900.0]</th>\n",
       "      <td>1</td>\n",
       "      <td>0</td>\n",
       "      <td>3</td>\n",
       "      <td>3</td>\n",
       "      <td>8</td>\n",
       "      <td>13</td>\n",
       "      <td>41</td>\n",
       "      <td>81</td>\n",
       "      <td>75</td>\n",
       "      <td>108</td>\n",
       "      <td>...</td>\n",
       "      <td>0</td>\n",
       "      <td>0</td>\n",
       "      <td>0</td>\n",
       "      <td>0</td>\n",
       "      <td>0</td>\n",
       "      <td>0</td>\n",
       "      <td>0</td>\n",
       "      <td>1</td>\n",
       "      <td>0</td>\n",
       "      <td>0</td>\n",
       "    </tr>\n",
       "  </tbody>\n",
       "</table>\n",
       "<p>10 rows × 37 columns</p>\n",
       "</div>"
      ],
      "text/plain": [
       "End_first               2007  2008  2009  2010  2011  2012  2013  2014  2015  \\\n",
       "Reductions                                                                     \n",
       "(-0.001, 9243.0]           3     4     3    16    17    15    25    44    34   \n",
       "(9243.0, 17888.0]          0     4     7    15    10    15    23    47    38   \n",
       "(17888.0, 27192.2]         1     8     5     7     6    11    30    56    59   \n",
       "(27192.2, 38005.8]         0     3     4     9    10     6    16    46    93   \n",
       "(38005.8, 52124.0]         1     4     5     8     6    15    27    59    78   \n",
       "(52124.0, 75390.0]         0     2     3     7     7    13    18    47    85   \n",
       "(75390.0, 101994.8]        1     2     1     4     2     6    12    36    54   \n",
       "(101994.8, 150895.2]       1     2     2     2     5     3     9    42    62   \n",
       "(150895.2, 269741.6]       2     2     6     2     4     9    20    61    75   \n",
       "(269741.6, 47808900.0]     1     0     3     3     8    13    41    81    75   \n",
       "\n",
       "End_first               2016  ...  2034  2035  2036  2037  2038  2039  2041  \\\n",
       "Reductions                    ...                                             \n",
       "(-0.001, 9243.0]          74  ...     1     0     2     2     3     1     1   \n",
       "(9243.0, 17888.0]        107  ...     0     0     1     0     1     0     0   \n",
       "(17888.0, 27192.2]       100  ...     0     1     2     1     0     1     1   \n",
       "(27192.2, 38005.8]       117  ...     0     0     2     1     1     0     0   \n",
       "(38005.8, 52124.0]       111  ...     0     0     1     0     1     0     1   \n",
       "(52124.0, 75390.0]       129  ...     0     0     0     0     1     0     0   \n",
       "(75390.0, 101994.8]       79  ...     0     0     0     0     0     0     1   \n",
       "(101994.8, 150895.2]     119  ...     0     0     0     0     0     2     0   \n",
       "(150895.2, 269741.6]     107  ...     0     0     0     0     0     0     0   \n",
       "(269741.6, 47808900.0]   108  ...     0     0     0     0     0     0     0   \n",
       "\n",
       "End_first               2044  2045  2047  \n",
       "Reductions                                \n",
       "(-0.001, 9243.0]           0     0     1  \n",
       "(9243.0, 17888.0]          0     0     0  \n",
       "(17888.0, 27192.2]         0     0     0  \n",
       "(27192.2, 38005.8]         1     1     0  \n",
       "(38005.8, 52124.0]         0     0     0  \n",
       "(52124.0, 75390.0]         0     0     0  \n",
       "(75390.0, 101994.8]        0     0     0  \n",
       "(101994.8, 150895.2]       0     0     0  \n",
       "(150895.2, 269741.6]       0     0     0  \n",
       "(269741.6, 47808900.0]     1     0     0  \n",
       "\n",
       "[10 rows x 37 columns]"
      ]
     },
     "execution_count": 223,
     "metadata": {},
     "output_type": "execute_result"
    }
   ],
   "source": [
    "pd.crosstab(pd.qcut(df['Reductions'], 10), columns=df['End_first'])"
   ]
  },
  {
   "cell_type": "markdown",
   "id": "6509e664",
   "metadata": {},
   "source": [
    "## Start of first crediting period"
   ]
  },
  {
   "cell_type": "code",
   "execution_count": 210,
   "id": "db10377d",
   "metadata": {},
   "outputs": [
    {
     "data": {
      "text/plain": [
       "2012    0.209447\n",
       "2013    0.128114\n",
       "2011    0.112546\n",
       "2009    0.102901\n",
       "2008    0.102825\n",
       "2010    0.096598\n",
       "2007    0.069183\n",
       "2014    0.047691\n",
       "2006    0.024529\n",
       "2015    0.022099\n",
       "2016    0.014277\n",
       "2005    0.010252\n",
       "2004    0.008733\n",
       "2020    0.008430\n",
       "2003    0.007898\n",
       "2017    0.007366\n",
       "2019    0.006151\n",
       "2001    0.005923\n",
       "2002    0.005164\n",
       "2018    0.004025\n",
       "2021    0.002734\n",
       "2000    0.001823\n",
       "2022    0.001063\n",
       "2023    0.000152\n",
       "2024    0.000076\n",
       "Name: First_crediting, dtype: float64"
      ]
     },
     "execution_count": 210,
     "metadata": {},
     "output_type": "execute_result"
    }
   ],
   "source": [
    "df['First_crediting'].value_counts(normalize=True)"
   ]
  },
  {
   "cell_type": "code",
   "execution_count": 211,
   "id": "c39d6fcc",
   "metadata": {},
   "outputs": [
    {
     "data": {
      "text/plain": [
       "2012    2758\n",
       "2013    1687\n",
       "2011    1482\n",
       "2009    1355\n",
       "2008    1354\n",
       "2010    1272\n",
       "2007     911\n",
       "2014     628\n",
       "2006     323\n",
       "2015     291\n",
       "2016     188\n",
       "2005     135\n",
       "2004     115\n",
       "2020     111\n",
       "2003     104\n",
       "2017      97\n",
       "2019      81\n",
       "2001      78\n",
       "2002      68\n",
       "2018      53\n",
       "2021      36\n",
       "2000      24\n",
       "2022      14\n",
       "2023       2\n",
       "2024       1\n",
       "Name: First_crediting, dtype: int64"
      ]
     },
     "execution_count": 211,
     "metadata": {},
     "output_type": "execute_result"
    }
   ],
   "source": [
    "df['First_crediting'].value_counts()"
   ]
  },
  {
   "cell_type": "code",
   "execution_count": 216,
   "id": "33dc0ace",
   "metadata": {},
   "outputs": [
    {
     "data": {
      "text/plain": [
       "(2010.0, 2012.0]      4240\n",
       "(1999.999, 2008.0]    3112\n",
       "(2008.0, 2010.0]      2627\n",
       "(2012.0, 2013.0]      1687\n",
       "(2013.0, 2024.0]      1502\n",
       "Name: First_crediting, dtype: int64"
      ]
     },
     "execution_count": 216,
     "metadata": {},
     "output_type": "execute_result"
    }
   ],
   "source": [
    "pd.qcut(df['First_crediting'],5).value_counts()"
   ]
  },
  {
   "cell_type": "markdown",
   "id": "876f19b1",
   "metadata": {},
   "source": [
    "## End of first crediting period"
   ]
  },
  {
   "cell_type": "code",
   "execution_count": 212,
   "id": "132c950b",
   "metadata": {},
   "outputs": [
    {
     "data": {
      "text/plain": [
       "2019    0.204283\n",
       "2018    0.110875\n",
       "2020    0.105863\n",
       "2017    0.102142\n",
       "2022    0.093180\n",
       "2016    0.079815\n",
       "2021    0.072296\n",
       "2015    0.049590\n",
       "2014    0.039414\n",
       "2023    0.038502\n",
       "2024    0.018530\n",
       "2013    0.016783\n",
       "2025    0.010708\n",
       "2027    0.010632\n",
       "2026    0.009721\n",
       "2012    0.008050\n",
       "2011    0.005696\n",
       "2010    0.005544\n",
       "2028    0.003341\n",
       "2009    0.002962\n",
       "2031    0.002354\n",
       "2008    0.002354\n",
       "2029    0.001974\n",
       "2030    0.001671\n",
       "2007    0.000759\n",
       "2036    0.000608\n",
       "2038    0.000532\n",
       "2037    0.000304\n",
       "2041    0.000304\n",
       "2033    0.000304\n",
       "2039    0.000304\n",
       "2044    0.000152\n",
       "2032    0.000152\n",
       "2045    0.000076\n",
       "2035    0.000076\n",
       "2034    0.000076\n",
       "2047    0.000076\n",
       "Name: End_first, dtype: float64"
      ]
     },
     "execution_count": 212,
     "metadata": {},
     "output_type": "execute_result"
    }
   ],
   "source": [
    "df['End_first'].value_counts(normalize=True)"
   ]
  },
  {
   "cell_type": "code",
   "execution_count": 213,
   "id": "2878db1a",
   "metadata": {},
   "outputs": [
    {
     "data": {
      "text/plain": [
       "2019    2690\n",
       "2018    1460\n",
       "2020    1394\n",
       "2017    1345\n",
       "2022    1227\n",
       "2016    1051\n",
       "2021     952\n",
       "2015     653\n",
       "2014     519\n",
       "2023     507\n",
       "2024     244\n",
       "2013     221\n",
       "2025     141\n",
       "2027     140\n",
       "2026     128\n",
       "2012     106\n",
       "2011      75\n",
       "2010      73\n",
       "2028      44\n",
       "2009      39\n",
       "2031      31\n",
       "2008      31\n",
       "2029      26\n",
       "2030      22\n",
       "2007      10\n",
       "2036       8\n",
       "2038       7\n",
       "2037       4\n",
       "2041       4\n",
       "2033       4\n",
       "2039       4\n",
       "2044       2\n",
       "2032       2\n",
       "2045       1\n",
       "2035       1\n",
       "2034       1\n",
       "2047       1\n",
       "Name: End_first, dtype: int64"
      ]
     },
     "execution_count": 213,
     "metadata": {},
     "output_type": "execute_result"
    }
   ],
   "source": [
    "df['End_first'].value_counts()"
   ]
  },
  {
   "cell_type": "code",
   "execution_count": 217,
   "id": "206e9ff7",
   "metadata": {},
   "outputs": [
    {
     "data": {
      "text/plain": [
       "(2016.0, 2018.0]      2805\n",
       "(2006.999, 2016.0]    2778\n",
       "(2018.0, 2019.0]      2690\n",
       "(2021.0, 2047.0]      2549\n",
       "(2019.0, 2021.0]      2346\n",
       "Name: End_first, dtype: int64"
      ]
     },
     "execution_count": 217,
     "metadata": {},
     "output_type": "execute_result"
    }
   ],
   "source": [
    "pd.qcut(df['End_first'],5).value_counts()"
   ]
  },
  {
   "cell_type": "markdown",
   "id": "169b5495",
   "metadata": {},
   "source": [
    "## List of host countries"
   ]
  },
  {
   "cell_type": "code",
   "execution_count": 224,
   "id": "1f42bd4b",
   "metadata": {},
   "outputs": [
    {
     "data": {
      "text/plain": [
       "CN                                                                                                        0.384113\n",
       "IN                                                                                                        0.258581\n",
       "BR                                                                                                        0.057943\n",
       "VN                                                                                                        0.025213\n",
       "MX                                                                                                        0.024985\n",
       "                                                                                                            ...   \n",
       "BJ; ML                                                                                                    0.000076\n",
       "GH; MW; NG; SN; ZM; ZW                                                                                    0.000076\n",
       "AO; BF; BJ; CI; CM; CV; DZ; EG; GA; GN; GW; LR; LY; MA; MG; ML; MR; MW; MZ; NA; NE; NG; SL; SN; TD; TN    0.000076\n",
       "NA; ZA; ZM                                                                                                0.000076\n",
       "ID; KH; LA; LK; PH; TH; VN                                                                                0.000076\n",
       "Name: Countries, Length: 182, dtype: float64"
      ]
     },
     "execution_count": 224,
     "metadata": {},
     "output_type": "execute_result"
    }
   ],
   "source": [
    "df['Countries'].value_counts(normalize=True)"
   ]
  },
  {
   "cell_type": "code",
   "execution_count": 225,
   "id": "d69a4da0",
   "metadata": {},
   "outputs": [
    {
     "data": {
      "text/plain": [
       "CN                                                                                                        5058\n",
       "IN                                                                                                        3405\n",
       "BR                                                                                                         763\n",
       "VN                                                                                                         332\n",
       "MX                                                                                                         329\n",
       "                                                                                                          ... \n",
       "BJ; ML                                                                                                       1\n",
       "GH; MW; NG; SN; ZM; ZW                                                                                       1\n",
       "AO; BF; BJ; CI; CM; CV; DZ; EG; GA; GN; GW; LR; LY; MA; MG; ML; MR; MW; MZ; NA; NE; NG; SL; SN; TD; TN       1\n",
       "NA; ZA; ZM                                                                                                   1\n",
       "ID; KH; LA; LK; PH; TH; VN                                                                                   1\n",
       "Name: Countries, Length: 182, dtype: int64"
      ]
     },
     "execution_count": 225,
     "metadata": {},
     "output_type": "execute_result"
    }
   ],
   "source": [
    "df['Countries'].value_counts()"
   ]
  },
  {
   "cell_type": "code",
   "execution_count": null,
   "id": "598e9894",
   "metadata": {},
   "outputs": [],
   "source": []
  },
  {
   "cell_type": "code",
   "execution_count": null,
   "id": "c1d091a5",
   "metadata": {},
   "outputs": [],
   "source": []
  },
  {
   "cell_type": "code",
   "execution_count": null,
   "id": "8708eaf5",
   "metadata": {},
   "outputs": [],
   "source": []
  },
  {
   "cell_type": "code",
   "execution_count": null,
   "id": "cda1c0a5",
   "metadata": {},
   "outputs": [],
   "source": []
  },
  {
   "cell_type": "code",
   "execution_count": null,
   "id": "91fce2cf",
   "metadata": {},
   "outputs": [],
   "source": []
  },
  {
   "cell_type": "code",
   "execution_count": null,
   "id": "a002806c",
   "metadata": {},
   "outputs": [],
   "source": []
  },
  {
   "cell_type": "markdown",
   "id": "60651df4",
   "metadata": {},
   "source": [
    "## Count Plot - Methodologies used at registration"
   ]
  },
  {
   "cell_type": "code",
   "execution_count": 101,
   "id": "b62538a9",
   "metadata": {},
   "outputs": [
    {
     "data": {
      "text/plain": [
       "Text(0.5, 1.0, 'The number of Methodologies used at registration')"
      ]
     },
     "execution_count": 101,
     "metadata": {},
     "output_type": "execute_result"
    },
    {
     "data": {
      "image/png": "[encoded data removed]",
      "text/plain": [
       "<Figure size 432x288 with 1 Axes>"
      ]
     },
     "metadata": {
      "needs_background": "light"
     },
     "output_type": "display_data"
    }
   ],
   "source": [
    "sns.countplot(df['Methodologies'])\n",
    "plt.title(\"The number of Methodologies used at registration\", fontsize = 15)"
   ]
  },
  {
   "cell_type": "markdown",
   "id": "316e2a01",
   "metadata": {},
   "source": [
    "## Count Plot - Project type (UNEP DTU)"
   ]
  },
  {
   "cell_type": "code",
   "execution_count": 103,
   "id": "f6becedf",
   "metadata": {},
   "outputs": [
    {
     "data": {
      "text/plain": [
       "Text(0.5, 1.0, 'The number of each project type')"
      ]
     },
     "execution_count": 103,
     "metadata": {},
     "output_type": "execute_result"
    },
    {
     "data": {
      "image/png": "[encoded data removed]",
      "text/plain": [
       "<Figure size 432x288 with 1 Axes>"
      ]
     },
     "metadata": {
      "needs_background": "light"
     },
     "output_type": "display_data"
    }
   ],
   "source": [
    "sns.countplot(df['Project_type'])\n",
    "plt.xticks(rotation=90)\n",
    "plt.title(\"The number of each project type\", fontsize = 15)"
   ]
  },
  {
   "cell_type": "markdown",
   "id": "494f146c",
   "metadata": {},
   "source": [
    "## Bar Plot"
   ]
  },
  {
   "cell_type": "code",
   "execution_count": 8,
   "id": "6ad3db51",
   "metadata": {},
   "outputs": [
    {
     "data": {
      "image/png": "[encoded data removed]",
      "text/plain": [
       "<Figure size 1152x648 with 1 Axes>"
      ]
     },
     "metadata": {
      "needs_background": "light"
     },
     "output_type": "display_data"
    }
   ],
   "source": [
    "# Country vs reductions\n",
    "\n",
    "## Top 10 Host Countries in Reductins\n",
    "\n",
    "country_reduction_avg = df.groupby(by = ['Countries'])['Reductions'].mean().div(1000).reset_index()\n",
    "table = country_reduction_avg.sort_values(by = 'Reductions', ascending = False).head(20)\n",
    "plt.figure(figsize = (16, 9))\n",
    "sns.barplot(y = table['Countries'], x = table['Reductions'])\n",
    "\n",
    "plt.title(\"Top 20 Host Countries in Reductins\", fontsize = 25)\n",
    "plt.xlabel(\"Reductions (K)\", fontsize = 20)\n",
    "plt.ylabel(\"Countries\", fontsize = 20)\n",
    "plt.xticks(fontsize = 15)\n",
    "plt.yticks(fontsize = 15);"
   ]
  },
  {
   "cell_type": "markdown",
   "id": "161865a1",
   "metadata": {},
   "source": [
    "## Pie plot: Percentage of Reductions by  Methodologies"
   ]
  },
  {
   "cell_type": "code",
   "execution_count": 76,
   "id": "bb9a6766",
   "metadata": {},
   "outputs": [
    {
     "data": {
      "image/png": "[encoded data removed]",
      "text/plain": [
       "<Figure size 504x504 with 1 Axes>"
      ]
     },
     "metadata": {},
     "output_type": "display_data"
    }
   ],
   "source": [
    "df1=pd.pivot_table(df, index = 'Methodologies', values=\"Reductions\")\n",
    "\n",
    "plot = df1.plot.pie(y='Reductions', figsize=(7,7),autopct='%1.10f%%',\n",
    "                    colors = ['red','steelblue','pink','purple'],\n",
    "                    title='Percentage of Reductions by  Methodologies')"
   ]
  }
 ],
 "metadata": {
  "kernelspec": {
   "display_name": "Python 3",
   "language": "python",
   "name": "python3"
  },
  "language_info": {
   "codemirror_mode": {
    "name": "ipython",
    "version": 3
   },
   "file_extension": ".py",
   "mimetype": "text/x-python",
   "name": "python",
   "nbconvert_exporter": "python",
   "pygments_lexer": "ipython3",
   "version": "3.8.8"
  }
 },
 "nbformat": 4,
 "nbformat_minor": 5
}
